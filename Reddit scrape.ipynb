{
 "cells": [
  {
   "cell_type": "code",
   "execution_count": 1,
   "metadata": {
    "ExecuteTime": {
     "end_time": "2020-02-09T23:21:05.763201Z",
     "start_time": "2020-02-09T23:21:05.475507Z"
    }
   },
   "outputs": [],
   "source": [
    "import praw\n",
    "import pandas as pd\n",
    "import datetime as dt\n",
    "import os"
   ]
  },
  {
   "cell_type": "code",
   "execution_count": 2,
   "metadata": {
    "ExecuteTime": {
     "end_time": "2020-02-09T23:21:06.095611Z",
     "start_time": "2020-02-09T23:21:05.764895Z"
    }
   },
   "outputs": [],
   "source": [
    "reddit = praw.Reddit('webscrape',user_agent='web_scrape')"
   ]
  },
  {
   "cell_type": "code",
   "execution_count": 3,
   "metadata": {
    "ExecuteTime": {
     "end_time": "2020-02-09T23:21:06.104873Z",
     "start_time": "2020-02-09T23:21:06.100339Z"
    }
   },
   "outputs": [],
   "source": [
    "subreddit = reddit.subreddit('The_Donald')"
   ]
  },
  {
   "cell_type": "code",
   "execution_count": 4,
   "metadata": {
    "ExecuteTime": {
     "end_time": "2020-02-09T23:21:06.108901Z",
     "start_time": "2020-02-09T23:21:06.106321Z"
    }
   },
   "outputs": [],
   "source": [
    "top_posts = subreddit.top(limit=500)"
   ]
  },
  {
   "cell_type": "code",
   "execution_count": 5,
   "metadata": {
    "ExecuteTime": {
     "end_time": "2020-02-09T23:21:06.173226Z",
     "start_time": "2020-02-09T23:21:06.110051Z"
    }
   },
   "outputs": [
    {
     "data": {
      "text/plain": [
       "praw.models.listing.generator.ListingGenerator"
      ]
     },
     "execution_count": 5,
     "metadata": {},
     "output_type": "execute_result"
    }
   ],
   "source": [
    "type(top_posts)"
   ]
  },
  {
   "cell_type": "code",
   "execution_count": 6,
   "metadata": {
    "ExecuteTime": {
     "end_time": "2020-02-09T23:21:07.177000Z",
     "start_time": "2020-02-09T23:21:06.174543Z"
    }
   },
   "outputs": [
    {
     "name": "stdout",
     "output_type": "stream",
     "text": [
      "DONALD J. TRUMP DECLARED THE WINNER!\n",
      "I’m Donald J. Trump and I'm Your Next President of the United States.\n",
      "The New Algorithm Was Designed To Keep President Trump From The Front Page... But Sadly, That Won't Happen.\n",
      "CNN will soon be #1...when searching for the term \"Fake News\". Congratulations to CNN on this major achievement.\n",
      "ALL CELEBRITIES THAT VOWED TO LEAVE THE U.S.A. IF TRUMP WINS, WE NOW DEMAND YOU TO FOLLOW THROUGH!!!! OUT! OUT! OUT!\n"
     ]
    }
   ],
   "source": [
    "for submission in subreddit.top(limit=5):\n",
    "    print(submission.title)"
   ]
  },
  {
   "cell_type": "code",
   "execution_count": 7,
   "metadata": {
    "ExecuteTime": {
     "end_time": "2020-02-09T23:21:07.181303Z",
     "start_time": "2020-02-09T23:21:07.178672Z"
    }
   },
   "outputs": [],
   "source": [
    "topics_dict = { \"title\":[], \\\n",
    "                \"score\":[], \\\n",
    "                \"topic_id\":[], \"url\":[], \\\n",
    "                \"comms_num\": [], \\\n",
    "                \"created\": [], \\\n",
    "                \"body\":[]}"
   ]
  },
  {
   "cell_type": "code",
   "execution_count": 8,
   "metadata": {
    "ExecuteTime": {
     "end_time": "2020-02-09T23:21:24.492063Z",
     "start_time": "2020-02-09T23:21:07.183577Z"
    }
   },
   "outputs": [],
   "source": [
    "for submission in top_posts:\n",
    "    topics_dict[\"title\"].append(submission.title)\n",
    "    topics_dict[\"score\"].append(submission.score)\n",
    "    topics_dict[\"topic_id\"].append(submission.id)\n",
    "    topics_dict[\"url\"].append(submission.url)\n",
    "    topics_dict[\"comms_num\"].append(submission.num_comments)\n",
    "    topics_dict[\"created\"].append(submission.created)\n",
    "    topics_dict[\"body\"].append(submission.selftext)"
   ]
  },
  {
   "cell_type": "code",
   "execution_count": null,
   "metadata": {
    "ExecuteTime": {
     "start_time": "2020-02-09T23:21:05.505Z"
    }
   },
   "outputs": [
    {
     "data": {
      "text/plain": [
       "500"
      ]
     },
     "execution_count": 9,
     "metadata": {},
     "output_type": "execute_result"
    }
   ],
   "source": [
    "topics_data = pd.DataFrame(topics_dict)\n",
    "len(topics_data)"
   ]
  },
  {
   "cell_type": "code",
   "execution_count": null,
   "metadata": {
    "ExecuteTime": {
     "start_time": "2020-02-09T23:21:05.507Z"
    }
   },
   "outputs": [],
   "source": [
    "def get_date(created):\n",
    "    return dt.datetime.fromtimestamp(created)\n",
    "\n",
    "_timestamp = topics_data[\"created\"].apply(get_date)\n",
    "topics_data = topics_data.assign(timestamp = _timestamp)"
   ]
  },
  {
   "cell_type": "code",
   "execution_count": null,
   "metadata": {
    "ExecuteTime": {
     "start_time": "2020-02-09T23:21:05.511Z"
    }
   },
   "outputs": [
    {
     "data": {
      "text/html": [
       "<div>\n",
       "<style scoped>\n",
       "    .dataframe tbody tr th:only-of-type {\n",
       "        vertical-align: middle;\n",
       "    }\n",
       "\n",
       "    .dataframe tbody tr th {\n",
       "        vertical-align: top;\n",
       "    }\n",
       "\n",
       "    .dataframe thead th {\n",
       "        text-align: right;\n",
       "    }\n",
       "</style>\n",
       "<table border=\"1\" class=\"dataframe\">\n",
       "  <thead>\n",
       "    <tr style=\"text-align: right;\">\n",
       "      <th></th>\n",
       "      <th>title</th>\n",
       "      <th>score</th>\n",
       "      <th>topic_id</th>\n",
       "      <th>url</th>\n",
       "      <th>comms_num</th>\n",
       "      <th>created</th>\n",
       "      <th>body</th>\n",
       "      <th>timestamp</th>\n",
       "    </tr>\n",
       "  </thead>\n",
       "  <tbody>\n",
       "    <tr>\n",
       "      <th>0</th>\n",
       "      <td>DONALD J. TRUMP DECLARED THE WINNER!</td>\n",
       "      <td>66712</td>\n",
       "      <td>5bzjv5</td>\n",
       "      <td>https://www.reddit.com/r/The_Donald/comments/5...</td>\n",
       "      <td>11883</td>\n",
       "      <td>1.478706e+09</td>\n",
       "      <td>#Meme Magic is REAL.\\n\\n#Donald J. Trump is th...</td>\n",
       "      <td>2016-11-09 09:42:06</td>\n",
       "    </tr>\n",
       "    <tr>\n",
       "      <th>1</th>\n",
       "      <td>I’m Donald J. Trump and I'm Your Next Presiden...</td>\n",
       "      <td>42120</td>\n",
       "      <td>4uxdbn</td>\n",
       "      <td>https://www.reddit.com/r/The_Donald/comments/4...</td>\n",
       "      <td>20458</td>\n",
       "      <td>1.469687e+09</td>\n",
       "      <td>Hello The_Donald readers and the entire Reddit...</td>\n",
       "      <td>2016-07-28 01:28:22</td>\n",
       "    </tr>\n",
       "    <tr>\n",
       "      <th>2</th>\n",
       "      <td>The New Algorithm Was Designed To Keep Preside...</td>\n",
       "      <td>40966</td>\n",
       "      <td>5gvy1j</td>\n",
       "      <td>https://i.sli.mg/gu0oHA.png</td>\n",
       "      <td>821</td>\n",
       "      <td>1.481092e+09</td>\n",
       "      <td></td>\n",
       "      <td>2016-12-07 00:22:16</td>\n",
       "    </tr>\n",
       "    <tr>\n",
       "      <th>3</th>\n",
       "      <td>CNN will soon be #1...when searching for the t...</td>\n",
       "      <td>37283</td>\n",
       "      <td>5jt9xs</td>\n",
       "      <td>https://i.redd.it/7jeyhzgku65y.png</td>\n",
       "      <td>719</td>\n",
       "      <td>1.482472e+09</td>\n",
       "      <td></td>\n",
       "      <td>2016-12-22 23:45:56</td>\n",
       "    </tr>\n",
       "    <tr>\n",
       "      <th>4</th>\n",
       "      <td>ALL CELEBRITIES THAT VOWED TO LEAVE THE U.S.A....</td>\n",
       "      <td>36612</td>\n",
       "      <td>5bz5ds</td>\n",
       "      <td>https://www.reddit.com/r/The_Donald/comments/5...</td>\n",
       "      <td>1671</td>\n",
       "      <td>1.478702e+09</td>\n",
       "      <td>Now that we have proven our commitment to the ...</td>\n",
       "      <td>2016-11-09 08:37:40</td>\n",
       "    </tr>\n",
       "  </tbody>\n",
       "</table>\n",
       "</div>"
      ],
      "text/plain": [
       "                                               title  score topic_id  \\\n",
       "0               DONALD J. TRUMP DECLARED THE WINNER!  66712   5bzjv5   \n",
       "1  I’m Donald J. Trump and I'm Your Next Presiden...  42120   4uxdbn   \n",
       "2  The New Algorithm Was Designed To Keep Preside...  40966   5gvy1j   \n",
       "3  CNN will soon be #1...when searching for the t...  37283   5jt9xs   \n",
       "4  ALL CELEBRITIES THAT VOWED TO LEAVE THE U.S.A....  36612   5bz5ds   \n",
       "\n",
       "                                                 url  comms_num       created  \\\n",
       "0  https://www.reddit.com/r/The_Donald/comments/5...      11883  1.478706e+09   \n",
       "1  https://www.reddit.com/r/The_Donald/comments/4...      20458  1.469687e+09   \n",
       "2                        https://i.sli.mg/gu0oHA.png        821  1.481092e+09   \n",
       "3                 https://i.redd.it/7jeyhzgku65y.png        719  1.482472e+09   \n",
       "4  https://www.reddit.com/r/The_Donald/comments/5...       1671  1.478702e+09   \n",
       "\n",
       "                                                body           timestamp  \n",
       "0  #Meme Magic is REAL.\\n\\n#Donald J. Trump is th... 2016-11-09 09:42:06  \n",
       "1  Hello The_Donald readers and the entire Reddit... 2016-07-28 01:28:22  \n",
       "2                                                    2016-12-07 00:22:16  \n",
       "3                                                    2016-12-22 23:45:56  \n",
       "4  Now that we have proven our commitment to the ... 2016-11-09 08:37:40  "
      ]
     },
     "execution_count": 11,
     "metadata": {},
     "output_type": "execute_result"
    }
   ],
   "source": [
    "topics_data.head()"
   ]
  },
  {
   "cell_type": "code",
   "execution_count": null,
   "metadata": {
    "ExecuteTime": {
     "start_time": "2020-02-09T23:21:05.514Z"
    }
   },
   "outputs": [],
   "source": [
    "comms_dict = { \"topic_id\": [], \"body\":[], \"comm_id\":[], \"created\":[] }"
   ]
  },
  {
   "cell_type": "code",
   "execution_count": null,
   "metadata": {
    "ExecuteTime": {
     "start_time": "2020-02-09T23:21:05.516Z"
    }
   },
   "outputs": [],
   "source": [
    "iteration = 1\n",
    "for topic in topics_data[\"topic_id\"]:\n",
    "    iteration += 1\n",
    "    submission = reddit.submission(id=topic)\n",
    "    submission.comments.replace_more(limit=None)\n",
    "\n",
    "    for top_level_comment in submission.comments:\n",
    "        comms_dict[\"topic_id\"].append(topic)\n",
    "        comms_dict[\"body\"].append(top_level_comment.body)\n",
    "        comms_dict[\"comm_id\"].append(top_level_comment)\n",
    "        comms_dict[\"created\"].append(top_level_comment.created)\n",
    "\n",
    "print(\"done\")"
   ]
  },
  {
   "cell_type": "code",
   "execution_count": null,
   "metadata": {
    "ExecuteTime": {
     "start_time": "2020-02-09T23:21:05.519Z"
    }
   },
   "outputs": [],
   "source": [
    "comms_data = pd.DataFrame(dict([ (k,pd.Series(v)) for k,v in comms_dict.items() ]))\n",
    "len(comms_data)"
   ]
  },
  {
   "cell_type": "code",
   "execution_count": null,
   "metadata": {
    "ExecuteTime": {
     "start_time": "2020-02-09T23:21:05.525Z"
    }
   },
   "outputs": [],
   "source": [
    "comms_data"
   ]
  },
  {
   "cell_type": "code",
   "execution_count": null,
   "metadata": {
    "ExecuteTime": {
     "start_time": "2020-02-09T23:21:05.527Z"
    }
   },
   "outputs": [],
   "source": [
    "df = pd.merge(topics_data,comms_data , on=\"topic_id\")\n",
    "df"
   ]
  },
  {
   "cell_type": "code",
   "execution_count": null,
   "metadata": {
    "ExecuteTime": {
     "start_time": "2020-02-09T23:21:05.529Z"
    }
   },
   "outputs": [],
   "source": [
    "len(df)"
   ]
  },
  {
   "cell_type": "code",
   "execution_count": null,
   "metadata": {
    "ExecuteTime": {
     "start_time": "2020-02-09T23:21:05.532Z"
    }
   },
   "outputs": [],
   "source": [
    "df = pd.merge(topics_data,comms_data , on=\"topic_id\")\n",
    "df\n",
    "df.to_csv(\"Donald2.csv\")"
   ]
  },
  {
   "cell_type": "code",
   "execution_count": null,
   "metadata": {},
   "outputs": [],
   "source": []
  },
  {
   "cell_type": "code",
   "execution_count": null,
   "metadata": {},
   "outputs": [],
   "source": []
  },
  {
   "cell_type": "code",
   "execution_count": null,
   "metadata": {},
   "outputs": [],
   "source": []
  }
 ],
 "metadata": {
  "kernelspec": {
   "display_name": "Python 3",
   "language": "python",
   "name": "python3"
  },
  "language_info": {
   "codemirror_mode": {
    "name": "ipython",
    "version": 3
   },
   "file_extension": ".py",
   "mimetype": "text/x-python",
   "name": "python",
   "nbconvert_exporter": "python",
   "pygments_lexer": "ipython3",
   "version": "3.7.3"
  },
  "toc": {
   "base_numbering": 1,
   "nav_menu": {},
   "number_sections": true,
   "sideBar": true,
   "skip_h1_title": false,
   "title_cell": "Table of Contents",
   "title_sidebar": "Contents",
   "toc_cell": false,
   "toc_position": {},
   "toc_section_display": true,
   "toc_window_display": false
  }
 },
 "nbformat": 4,
 "nbformat_minor": 2
}
